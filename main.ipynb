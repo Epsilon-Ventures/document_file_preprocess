{
 "cells": [
  {
   "cell_type": "code",
   "execution_count": null,
   "metadata": {},
   "outputs": [],
   "source": [
    "from __future__ import print_function\n",
    "from utils.check_credentials import check_cred\n",
    "from utils.get_drive_contents import get_all_files\n",
    "from utils.convert_to_google_docs import files_to_google_doc\n",
    "from utils.get_docs_contents import get_docs_contents\n",
    "import os.path\n",
    "from googleapiclient.discovery import build\n",
    "import json"
   ]
  },
  {
   "cell_type": "code",
   "execution_count": null,
   "metadata": {},
   "outputs": [],
   "source": [
    "# If modifying these scopes, delete the file token.json.\n",
    "SCOPES = ['https://www.googleapis.com/auth/documents.readonly', 'https://www.googleapis.com/auth/drive']\n",
    "\n",
    "with open('constants.json') as file:\n",
    "  constants = json.load(file)\n",
    "folder_ids = [\n",
    " constants[\"FALL_2005\"],\n",
    " constants[\"FALL_2011\"],\n",
    " constants[\"FALL_2013\"],\n",
    " constants[\"SPRING_2012\"],\n",
    " constants[\"SPRING_2013\"],\n",
    " constants[\"SPRING_2014\"],\n",
    " constants[\"FALL_2012_FINAL\"],\n",
    " constants[\"FALL_2012\"],\n",
    " constants[\"FALL_2014\"],\n",
    " constants[\"FALL_2015_COMP\"],\n",
    " constants[\"FALL_2015_ELE\"],\n",
    " constants[\"FALL_2015_ELX\"],\n",
    " constants[\"FALL_2015_BE\"],\n",
    " constants[\"FALL_2015_CIVIL\"],\n",
    " constants[\"FALL_2015_COMMON\"],\n",
    " constants[\"FALL_2015_SE\"],\n",
    " constants[\"FALL_2015_ARCHITECTURE\"]\n",
    "]"
   ]
  },
  {
   "cell_type": "code",
   "execution_count": null,
   "metadata": {},
   "outputs": [],
   "source": [
    "creds = check_cred(SCOPES)\n",
    "docs_service = build('docs', 'v1', credentials=creds)\n",
    "drive_service = build('drive', 'v3', credentials=creds)\n",
    "drive_service2 = build('drive', 'v2', credentials=creds)"
   ]
  },
  {
   "cell_type": "code",
   "execution_count": null,
   "metadata": {},
   "outputs": [],
   "source": [
    "for folder_id in folder_ids:\n",
    "  my_files = get_all_files(drive_service, folder_id)\n",
    "  files_to_google_doc(drive_service, drive_service2, my_files, folder_id)"
   ]
  }
 ],
 "metadata": {
  "kernelspec": {
   "display_name": "Python 3",
   "language": "python",
   "name": "python3"
  },
  "language_info": {
   "codemirror_mode": {
    "name": "ipython",
    "version": 3
   },
   "file_extension": ".py",
   "mimetype": "text/x-python",
   "name": "python",
   "nbconvert_exporter": "python",
   "pygments_lexer": "ipython3",
   "version": "3.10.6"
  },
  "orig_nbformat": 4,
  "vscode": {
   "interpreter": {
    "hash": "31f2aee4e71d21fbe5cf8b01ff0e069b9275f58929596ceb00d14d90e3e16cd6"
   }
  }
 },
 "nbformat": 4,
 "nbformat_minor": 2
}
